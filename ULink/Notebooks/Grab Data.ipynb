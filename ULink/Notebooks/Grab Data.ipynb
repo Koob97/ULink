{
 "cells": [
  {
   "cell_type": "markdown",
   "metadata": {},
   "source": [
    "# CS Schedule Parser"
   ]
  },
  {
   "cell_type": "markdown",
   "metadata": {},
   "source": [
    "### Connect to Firebase"
   ]
  },
  {
   "cell_type": "code",
   "execution_count": 2,
   "metadata": {
    "collapsed": true
   },
   "outputs": [],
   "source": [
    "from firebase import firebase\n",
    "firebase = firebase.FirebaseApplication(\"https://ulink-f40aa.firebaseio.com/\")"
   ]
  },
  {
   "cell_type": "markdown",
   "metadata": {},
   "source": [
    "### Connect to UMass Course page with Selenium"
   ]
  },
  {
   "cell_type": "code",
   "execution_count": 3,
   "metadata": {
    "collapsed": true
   },
   "outputs": [],
   "source": [
    "from selenium import webdriver\n",
    "from selenium.webdriver.common.keys import Keys\n",
    "from selenium.webdriver.support.ui import WebDriverWait\n",
    "from selenium.webdriver.support import expected_conditions as EC\n",
    "from selenium.webdriver.common.by import By\n",
    "\n",
    "url = \"https://www.cics.umass.edu/content/fall-18-course-schedule\"\n",
    "driver = webdriver.Firefox()\n",
    "driver.implicitly_wait(30)\n",
    "driver.get(url)"
   ]
  },
  {
   "cell_type": "markdown",
   "metadata": {},
   "source": [
    "### Hand it over to BeautifulSoup"
   ]
  },
  {
   "cell_type": "code",
   "execution_count": 39,
   "metadata": {},
   "outputs": [
    {
     "name": "stdout",
     "output_type": "stream",
     "text": [
      "{'105': {'course_name': 'Computer Literacy', 'days': 'TueThu', 'start_time': '11:30 AM', 'end_time': '12:45 PM', 'location': 'HasbAd 20'}, '119': {'course_name': 'Introduction to Programming', 'days': 'MonWedFri', 'start_time': '01:25 PM', 'end_time': '02:15 PM', 'location': 'Goes 20'}, '120': {'course_name': 'Introduction to Problem Solving with the Internet', 'days': 'MonWedFri', 'start_time': '11:15 AM', 'end_time': '12:05 PM', 'location': 'ILCS331'}, '121': {'course_name': 'Introduction to Problem Solving with Computers', 'days': 'Tue', 'start_time': '11:30 AM', 'end_time': '12:45 PM', 'location': 'ILCN151'}, '186': {'course_name': 'Using Data Structures', 'days': 'TueThu', 'start_time': '04:00 PM', 'end_time': '05:15 PM', 'location': 'ILCS331'}, '187': {'course_name': 'Programming with Data Structures', 'days': 'TueThu', 'start_time': '04:00 PM', 'end_time': '05:15 PM', 'location': 'Thmpsn 104'}, '220': {'course_name': 'Programming Methodology', 'days': 'TueThu', 'start_time': '02:30 PM', 'end_time': '03:45 PM', 'location': 'ELABII0119'}, '230': {'course_name': 'Computer Systems Principles', 'days': 'TueThu', 'start_time': '11:30 AM', 'end_time': '12:45 PM', 'location': 'GsmnAdd 64'}, '240': {'course_name': 'Reasoning Under Uncertainty', 'days': 'MonWed', 'start_time': '02:30 PM', 'end_time': '03:45 PM', 'location': 'HasbAd 124'}, '250': {'course_name': 'Introduction to Computation', 'days': 'MonWedFri', 'start_time': '01:25 PM', 'end_time': '02:15 PM', 'location': 'GsmnAdd 64'}, '305': {'course_name': 'Social Issues in Computing', 'days': 'TueThu', 'start_time': '11:30 AM', 'end_time': '12:45 PM', 'location': 'LederT 206'}, '311': {'course_name': 'Introduction to Algorithms', 'days': 'TueThu', 'start_time': '11:30 AM', 'end_time': '12:45 PM', 'location': 'HasbAd 124'}, '320': {'course_name': 'Introduction to Software Engineering', 'days': 'TueThu', 'start_time': '01:00 PM', 'end_time': '02:15 PM', 'location': 'CompSci142'}, '325': {'course_name': 'Introduction to Human Computer Interaction', 'days': '', 'start_time': 'TBA', 'end_time': 'TBA', 'location': 'On-Line'}, '326': {'course_name': 'Web Programming', 'days': 'TueThu', 'start_time': '01:00 PM', 'end_time': '02:15 PM', 'location': 'SC0W245'}, '328': {'course_name': 'Mobile Health Sensing and Analytics', 'days': 'MonWedFri', 'start_time': '01:25 PM', 'end_time': '02:15 PM', 'location': 'CompSci142'}, '335': {'course_name': 'Inside the Box: How Computers Work', 'days': 'MonWed', 'start_time': '04:00 PM', 'end_time': '05:15 PM', 'location': 'CompSci142'}, '345': {'course_name': 'Practice and Applications of Data Management', 'days': 'Mon', 'start_time': '10:10 AM', 'end_time': '12:05 PM', 'location': 'ILCS220'}, '377': {'course_name': 'Operating Systems', 'days': 'TueThu', 'start_time': '04:00 PM', 'end_time': '05:15 PM', 'location': 'HasbAd 126'}, '383': {'course_name': 'Artificial Intelligence', 'days': 'MonWed', 'start_time': '04:00 PM', 'end_time': '05:15 PM', 'location': 'ILCS131'}, '410': {'course_name': 'Compiler Techniques', 'days': 'MonWed', 'start_time': '02:30 PM', 'end_time': '03:45 PM', 'location': 'CompSci142'}, '453': {'course_name': 'Computer Networks', 'days': 'TueThu', 'start_time': '11:30 AM', 'end_time': '12:45 PM', 'location': 'ISB0221'}, '460': {'course_name': 'Introduction to Computer and Network Security', 'days': 'TueThu', 'start_time': '10:00 AM', 'end_time': '11:15 AM', 'location': 'EnginLb304'}, '503': {'course_name': 'Embedded Computing Systems', 'days': 'TueThu', 'start_time': '11:30 AM', 'end_time': '12:45 PM', 'location': 'LGRC A310'}, '514': {'course_name': 'Algorithms for Data Science', 'days': 'TueThu', 'start_time': '10:00 AM', 'end_time': '11:15 AM', 'location': 'MOR1N375'}, '520': {'course_name': 'Theory and Practice of Software Engineering', 'days': 'TueThu', 'start_time': '10:00 AM', 'end_time': '11:15 AM', 'location': 'ISB0221'}, '529': {'course_name': 'Software Engineering Project Management', 'days': 'TueThu', 'start_time': '01:00 PM', 'end_time': '02:15 PM', 'location': 'CompSci142'}, '575': {'course_name': 'Combinatorics and Graph Theory', 'days': 'WedFri', 'start_time': '04:00 PM', 'end_time': '05:15 PM', 'location': 'ILCS211'}, '585': {'course_name': 'Introduction to Natural Language Processing', 'days': 'TueThu', 'start_time': '02:30 PM', 'end_time': '03:45 PM', 'location': 'Goes 20'}, '589': {'course_name': 'Machine Learning', 'days': 'MonWed', 'start_time': '02:30 PM', 'end_time': '03:45 PM', 'location': 'ELABII0119'}, '610': {'course_name': 'Compiler Techniques', 'days': 'MonWed', 'start_time': '02:30 PM', 'end_time': '03:45 PM', 'location': 'CompSci142'}, '611': {'course_name': 'Advanced Algorithms', 'days': 'TueThu', 'start_time': '11:30 AM', 'end_time': '12:45 PM', 'location': 'Hasbrck134'}, '631': {'course_name': 'Programming Languages', 'days': 'TueThu', 'start_time': '01:00 PM', 'end_time': '02:15 PM', 'location': 'GsmnAdd 51'}, '645': {'course_name': 'Database Design and Implementation', 'days': 'TueThu', 'start_time': '02:30 PM', 'end_time': '03:45 PM', 'location': 'GsmnAdd 51'}, '646': {'course_name': 'Information Retrieval', 'days': 'MonWed', 'start_time': '09:05 AM', 'end_time': '10:20 AM', 'location': 'CompSci142'}, '653': {'course_name': 'Computer Networking', 'days': 'TueThu', 'start_time': '04:00 PM', 'end_time': '05:15 PM', 'location': 'CompSci142'}, '655': {'course_name': 'Performance Evaluation', 'days': 'TueThu', 'start_time': '10:00 AM', 'end_time': '11:15 AM', 'location': 'CompSci142'}, '670': {'course_name': 'Computer Vision', 'days': 'TueThu', 'start_time': '01:00 PM', 'end_time': '02:15 PM', 'location': 'Marstn 132'}, '682': {'course_name': 'Neural Networks: A Modern Introduction', 'days': 'TueThu', 'start_time': '08:30 AM', 'end_time': '09:45 AM', 'location': 'MOR1N375'}, '687': {'course_name': 'Reinforcement Learning', 'days': 'TueThu', 'start_time': '05:30 PM', 'end_time': '06:45 PM', 'location': 'ELABII0119'}, '689': {'course_name': 'Machine Learning', 'days': 'MonWed', 'start_time': '02:30 PM', 'end_time': '03:45 PM', 'location': 'AgEngin119'}, '701': {'course_name': 'Advanced Topics in Computer Science', 'days': '', 'start_time': 'TBA', 'end_time': 'TBA', 'location': ''}, '899': {'course_name': 'PhD Dissertation', 'days': '', 'start_time': 'TBA', 'end_time': 'TBA', 'location': ''}, '101': {'course_name': 'Introduction to Informatics', 'days': 'TueThu', 'start_time': '02:30 PM', 'end_time': '03:45 PM', 'location': 'ILCN101'}, '150': {'course_name': 'A Mathematical Foundation for Informatics', 'days': 'MonWed', 'start_time': '02:30 PM', 'end_time': '03:45 PM', 'location': 'LederCA203'}}\n"
     ]
    }
   ],
   "source": [
    "from bs4 import BeautifulSoup\n",
    "soup_level1 = BeautifulSoup(driver.page_source, 'lxml')\n",
    "\n",
    "import re\n",
    "line = \"10:23 AM 04:25 PM\"\n",
    "\n",
    "time = re.compile('([0-9]{2}:[0-9]{2}( AM| PM))')\n",
    "\n",
    "def is_number(s):\n",
    "    try:\n",
    "        float(s)\n",
    "        return True\n",
    "    except ValueError:\n",
    "        return False\n",
    "\n",
    "from collections import defaultdict\n",
    "courses = defaultdict(dict)\n",
    "\n",
    "next_is_detail = False # used in for loop to identify when a row of course detail is coming\n",
    "course_number = \"\"\n",
    "course_name = \"\"\n",
    "for row in soup_level1.find_all('tr'): # find all rows of the table\n",
    "    if next_is_detail: # this will fill in detail for courses\n",
    "        cells = row.find_all('td')\n",
    "        courses[course_number][\"days\"] = cells[2].text\n",
    "        \n",
    "        time_matches = re.findall(time,cells[3].text)\n",
    "        if len(time_matches) == 2:\n",
    "            courses[course_number][\"start_time\"] = time_matches[0][0]\n",
    "            courses[course_number][\"end_time\"] = time_matches[1][0]\n",
    "        else:\n",
    "            courses[course_number][\"start_time\"] = \"TBA\"\n",
    "            courses[course_number][\"end_time\"] = \"TBA\"\n",
    "        courses[course_number][\"location\"] = cells[4].text\n",
    "        next_is_detail = False\n",
    "        continue\n",
    "        \n",
    "        \n",
    "    if len(row.find_all('td')) == 2:  # course rows should only have two entries\n",
    "        count = 0\n",
    "        course_number = \"\"\n",
    "        course_name = \"\"\n",
    "        for cell in row.find_all('td'): # cells are in td tags which have a tags holding info we want\n",
    "            link = cell.find_all('a')[0]\n",
    "            if count == 0:  # first entry should be name of course\n",
    "                if not is_number(link.text):  # if it isnt a number, skip this row; it isnt a class\n",
    "                    break\n",
    "                else:\n",
    "                    course_number = link.text\n",
    "                    count += 1\n",
    "            if count == 1:\n",
    "                course_name = link.text\n",
    "        if course_name is not \"\":\n",
    "            courses[course_number][\"course_name\"] = course_name # default dict solves KeyError problem\n",
    "            next_is_detail = True\n",
    "\n",
    "courses = dict(courses)  \n",
    "print(courses)"
   ]
  },
  {
   "cell_type": "markdown",
   "metadata": {},
   "source": [
    "### Define function for pushing to Firebase"
   ]
  },
  {
   "cell_type": "code",
   "execution_count": 40,
   "metadata": {
    "collapsed": true
   },
   "outputs": [],
   "source": [
    "def pushToFirebase(new_info):\n",
    "    update = firebase.patch('/course_info', new_info)"
   ]
  },
  {
   "cell_type": "markdown",
   "metadata": {},
   "source": [
    "### Push data to Firebase"
   ]
  },
  {
   "cell_type": "code",
   "execution_count": 41,
   "metadata": {
    "collapsed": true
   },
   "outputs": [],
   "source": [
    "pushToFirebase(courses)"
   ]
  },
  {
   "cell_type": "code",
   "execution_count": null,
   "metadata": {
    "collapsed": true
   },
   "outputs": [],
   "source": []
  }
 ],
 "metadata": {
  "kernelspec": {
   "display_name": "Python 3",
   "language": "python",
   "name": "python3"
  },
  "language_info": {
   "codemirror_mode": {
    "name": "ipython",
    "version": 3
   },
   "file_extension": ".py",
   "mimetype": "text/x-python",
   "name": "python",
   "nbconvert_exporter": "python",
   "pygments_lexer": "ipython3",
   "version": "3.6.2"
  }
 },
 "nbformat": 4,
 "nbformat_minor": 2
}
